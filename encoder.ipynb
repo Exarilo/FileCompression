{
 "cells": [
  {
   "cell_type": "code",
   "execution_count": 1,
   "metadata": {},
   "outputs": [],
   "source": [
    "#IMPORT DES LIBRAIRIES\n",
    "\n",
    "import os\n",
    "from PIL import Image\n",
    "import numpy as np\n",
    "import gzip\n",
    "import math"
   ]
  },
  {
   "cell_type": "code",
   "execution_count": 2,
   "metadata": {},
   "outputs": [],
   "source": [
    "#INITIALISATION DES NOMS DE FICHIERS\n",
    "input_dir = \"1_Initial\"\n",
    "output_dir = \"2_Compressed\"\n",
    "\n",
    "file_list = os.listdir(input_dir)\n",
    "\n",
    "if not os.path.exists(output_dir):\n",
    "    os.makedirs(output_dir)"
   ]
  },
  {
   "cell_type": "code",
   "execution_count": 3,
   "metadata": {},
   "outputs": [],
   "source": [
    "# PARCOURT DE CHAQUE FICHIER\n",
    "for filename in file_list:\n",
    "    #LECTURE DES BYTES\n",
    "    with open(os.path.join(input_dir, filename), \"rb\") as file:\n",
    "        file_bytes = file.read()\n",
    "    \n",
    "    #ON AJOUTE DES BYTES AU FICHIER POUR SAUVEGARDER LE NOM DU FICHIER ET MARQUER LA FIN DU FICHIER \n",
    "    formatted_file_bytes = filename.encode() + b'\\x00' + file_bytes + b'\\x00'\n",
    "    \n",
    "    #ON COMPRESS LES BYTES (LOSSLESS)\n",
    "    compressed_bytes = gzip.compress(formatted_file_bytes)\n",
    "    \n",
    "    #ON AJOUTE DES BYTES POUR QUE LA TAILLE DE L'IMAGE SOIT UN CARRE\n",
    "    length = len(compressed_bytes) / 4\n",
    "    next_square = math.ceil(math.sqrt(length)) ** 2\n",
    "    padding = int((next_square - length) * 4)\n",
    "    compressed_bytes += b'\\x00' * padding\n",
    "    \n",
    "    size_as_rgba = len(compressed_bytes) / 4 \n",
    "    required_width_height = int(np.sqrt(size_as_rgba))\n",
    "    \n",
    "    #CONVERTION DES BYTES EN IMAGE PUIS SAUVEGARDE \n",
    "    data = np.frombuffer(compressed_bytes, dtype=np.uint8) \n",
    "    image = Image.frombytes('RGBA', (required_width_height, required_width_height), data)\n",
    "    image.save(os.path.join(output_dir, filename.split(\".\")[0] + \".png\"))"
   ]
  }
 ],
 "metadata": {
  "kernelspec": {
   "display_name": "Python 3",
   "language": "python",
   "name": "python3"
  },
  "language_info": {
   "codemirror_mode": {
    "name": "ipython",
    "version": 3
   },
   "file_extension": ".py",
   "mimetype": "text/x-python",
   "name": "python",
   "nbconvert_exporter": "python",
   "pygments_lexer": "ipython3",
   "version": "3.11.8"
  }
 },
 "nbformat": 4,
 "nbformat_minor": 2
}
