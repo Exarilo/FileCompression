{
 "cells": [
  {
   "cell_type": "code",
   "execution_count": 1,
   "metadata": {},
   "outputs": [],
   "source": [
    "#IMPORT DES LIBRAIRIES\n",
    "\n",
    "import os\n",
    "from PIL import Image\n",
    "import numpy as np\n",
    "import gzip\n",
    "import io"
   ]
  },
  {
   "cell_type": "code",
   "execution_count": 2,
   "metadata": {},
   "outputs": [],
   "source": [
    "#INITIALISATION DES NOMS DE FICHIERS\n",
    "\n",
    "input_dir = \"2_Compressed\"\n",
    "output_dir = \"3_Restored\"\n",
    "\n",
    "file_list = os.listdir(input_dir)\n",
    "\n",
    "if not os.path.exists(output_dir):\n",
    "    os.makedirs(output_dir)"
   ]
  },
  {
   "cell_type": "code",
   "execution_count": 3,
   "metadata": {},
   "outputs": [],
   "source": [
    "# PARCOURT DE CHAQUE FICHIER\n",
    "for filename in file_list:\n",
    "    #LECTURE DE L'IMAGE COMPRESSEE\n",
    "    img_path = os.path.join(input_dir, filename)\n",
    "    simple_small_img = Image.open(img_path)\n",
    "    \n",
    "    #CONVERSION DE L'IMAGE EN BYTES\n",
    "    data = np.array(simple_small_img)\n",
    "    compressed_bytes = data.tobytes()\n",
    "    \n",
    "    #ON DECOMPRESSE LES BYTES\n",
    "    decompressed_data = gzip.decompress(compressed_bytes)\n",
    "    \n",
    "    #ON REAJUSTE LES DONNEES RESTAUREES\n",
    "\n",
    "    separator_index = decompressed_data.index(b\"\\x00\")\n",
    "    filename_bytes = decompressed_data[:separator_index]\n",
    "    filename = filename_bytes.replace(b\"\\x00\", b\"\").decode(\"utf-8\", \"ignore\") \n",
    "    file_bytes = decompressed_data[separator_index+1:]\n",
    "    \n",
    "    #SUPPRESSION DES CARACTERES NULS EN TROP\n",
    "    if file_bytes.endswith(b\"\\x00\"):\n",
    "        file_bytes = file_bytes[:-1]\n",
    "    \n",
    "    #RESTAURATION DES FICHIERS D'ORIGINE\n",
    "    with open(os.path.join(output_dir, filename), 'wb') as file:\n",
    "        file.write(io.BytesIO(file_bytes).read())"
   ]
  }
 ],
 "metadata": {
  "kernelspec": {
   "display_name": "Python 3",
   "language": "python",
   "name": "python3"
  },
  "language_info": {
   "codemirror_mode": {
    "name": "ipython",
    "version": 3
   },
   "file_extension": ".py",
   "mimetype": "text/x-python",
   "name": "python",
   "nbconvert_exporter": "python",
   "pygments_lexer": "ipython3",
   "version": "3.11.8"
  }
 },
 "nbformat": 4,
 "nbformat_minor": 2
}
