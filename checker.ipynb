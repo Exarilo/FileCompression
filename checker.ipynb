{
 "cells": [
  {
   "cell_type": "code",
   "execution_count": 1,
   "metadata": {},
   "outputs": [],
   "source": [
    "#IMPORT DES LIBRAIRIES\n",
    "\n",
    "import os "
   ]
  },
  {
   "cell_type": "code",
   "execution_count": 2,
   "metadata": {},
   "outputs": [],
   "source": [
    "#INITIALISATION DES NOMS DE FICHIERS\n",
    "\n",
    "initial_files = os.listdir(\"1_Initial\")\n",
    "restored_files = os.listdir(\"3_Restored\")"
   ]
  },
  {
   "cell_type": "code",
   "execution_count": 3,
   "metadata": {},
   "outputs": [
    {
     "name": "stdout",
     "output_type": "stream",
     "text": [
      "✅ Les fichiers big_file.txt sont identiques en termes de bytes.\n",
      "✅ Les fichiers image.jpg sont identiques en termes de bytes.\n",
      "✅ Les fichiers small-text.txt sont identiques en termes de bytes.\n",
      "🚩 Comparaison terminée.\n"
     ]
    }
   ],
   "source": [
    "# VERIFICATION DU NOMBRE DE FICHIERS DANS INITIAL ET RESTORED\n",
    "\n",
    "if len(initial_files) != len(restored_files):\n",
    "    print(\"❌Les nombres de fichiers dans les dossiers 1_Initial et 3_Restored ne correspondent pas.\")\n",
    "\n",
    "# PARCOURT DE CHAQUE FICHIER dans 1_Initial\n",
    "for filename in initial_files:\n",
    "    initial_file_path = os.path.join(\"1_Initial\", filename)\n",
    "    restored_file_path = os.path.join(\"3_Restored\", filename)\n",
    "    \n",
    "    # VERIFICATION DE L'EXISTANCE DU FICHIER DANS 3_Restored\n",
    "    if not os.path.exists(restored_file_path):\n",
    "        print(f\"❌Le fichier {filename} n'existe pas dans le dossier 3_Restored.\")\n",
    "        continue\n",
    "    \n",
    "    # COMPARAISON DES FICHIER EN TERMES DE BYTES\n",
    "    with open(initial_file_path, 'rb') as f1, open(restored_file_path, 'rb') as f2:\n",
    "        initial_bytes = f1.read()\n",
    "        restored_bytes = f2.read()\n",
    "        \n",
    "        if initial_bytes != restored_bytes:\n",
    "            print(f\"✅ Les fichiers {filename} sont différents en termes de bytes.\")\n",
    "        else:\n",
    "            print(f\"✅ Les fichiers {filename} sont identiques en termes de bytes.\")\n",
    "\n",
    "print(\"🚩 Comparaison terminée.\")\n",
    "\n"
   ]
  }
 ],
 "metadata": {
  "kernelspec": {
   "display_name": "Python 3",
   "language": "python",
   "name": "python3"
  },
  "language_info": {
   "codemirror_mode": {
    "name": "ipython",
    "version": 3
   },
   "file_extension": ".py",
   "mimetype": "text/x-python",
   "name": "python",
   "nbconvert_exporter": "python",
   "pygments_lexer": "ipython3",
   "version": "3.11.8"
  }
 },
 "nbformat": 4,
 "nbformat_minor": 2
}
